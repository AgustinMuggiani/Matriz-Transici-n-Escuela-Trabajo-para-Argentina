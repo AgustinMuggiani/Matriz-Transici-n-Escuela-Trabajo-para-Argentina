{
 "cells": [
  {
   "cell_type": "markdown",
   "metadata": {},
   "source": [
    "### Resumen"
   ]
  },
  {
   "cell_type": "markdown",
   "metadata": {},
   "source": [
    "### Introducción"
   ]
  },
  {
   "cell_type": "markdown",
   "metadata": {},
   "source": [
    "Para estudiar la transición de los jóvenes de la escuela al mercado laboral, se decidió hacer un estudio de enfoque cuantitativo, ya que se sacarán conclusiones objetivas al examinar la relación entre variables medibles. Se reducirá el estudio solamente a los jóvenes de la República Argentina, por lo que se utilizarán las *Encuestas Permanentes de Hogares* (EPH), para analizar estos datos se utilizará un método cuantitativo, ya que, la recolección de datos se hizo de forma predeterminada por estas encuestas y la interpretación de los datos se obtendrá de manera estadística.\n",
    "\n",
    "El trabajo se divide seis partes. En la primer parte se presenta una revisión literaria donde se exponen los estudios más importante sobre el tema de estudio y las razones para realizar este trabajo. En la segunda parte se hace una breve descripción de los datos a utilizar, y sus principales características y limitaciones. En la tercera parte se presentan las variables de análisis exponiendo cuales son las causas (variable independiente) que determinan los efectos (variables dependientes). En la cuarta parte se expone como se crean las matrices de transición que utilizaremos para comprender los resultados. En la parte cinco se muestran los resultados obtenidos y un análisis detallado de cada caso en particular. Y en la sexta, y última parte, se presenta las conclusiones finales del trabajo de estudio.\n"
   ]
  },
  {
   "cell_type": "markdown",
   "metadata": {},
   "source": [
    "### I. Revisión de Literatura\n",
    "\n",
    "![](MapadeLiteratura.png)"
   ]
  },
  {
   "cell_type": "markdown",
   "metadata": {},
   "source": [
    "Al realizar la revisión de literatura sobre el problema que nos concierne, descubrimos que básicamente la literatura se divide en dos grandes grupos, uno que explica los factores que influyen en la transición de los jóvenes de la escuela al trabajo, y otro que estudia los tipos o formas de trabajo que consiguen estos jóvenes.\n",
    "\n",
    "Si analizamos el primer grupo, donde se encuentra la mayor parte de la literatura compilada, descubrimos que los factores de influencia en la transición se dividen en dos grupos, un primer grupo son los factores que dependen del individuo al que se estudia, y el segundo grupo son los factores que no dependen del individuo.\n",
    "\n",
    "De los factores que dependen del individuo, la educación es el principal factor que interviene en una buena transición hacia un buen empleo, la mayoría de los autores estudian esta situación. Sin embargo, nosotros veremos los principales como *Schkolnik (2005)* que descubre que unos de los requisitos esenciales para conseguir una buena transición de la escuela al trabajo es una educación formal, ya que independientemente de la calidad de la educación representa un certificado de cumplimiento de normas, reglas y horarios, etc. (teoría institucionalista). Otro requisito, es la experiencia y el aprendizaje dentro de la propia empresa debido a la complejidad en la actualidad de los sistemas de producción. *Egel y Salehi-Isfahani (2010)* descubren que la duración del desempleo aumenta secularmente con la educación de los hombres, pero no de las mujeres. El nivel educativo da forma a ciertos aspectos de la experiencia laboral en los jóvenes, independientemente del género, *Duryea, Cox y Ureta (2003)* descubrieron que los jóvenes adultos con educación universitaria experimentan una rápida absorción en el mercado laboral, con una rápida entrada en el sector formal, altas tasas de participación y bajas tasas de desempleo. Otro factor influyente en la obtención de empleo es la experiencia laboral, *Ramírez (1996)* encontró que la tasa de transición de empleo entre los jóvenes que buscan trabajo por primera vez es la mitad que la de los trabajadores jóvenes con experiencia.\n",
    "\n",
    "Debido a la importancia de la educación a la hora de conseguir un trabajo, es importante estudiar los problemas de asistencia escolar, donde la gran mayoria se pueden vincular a variables como la estructura del hogar, situación del país, la educación de los padres, el número de niños que habitan el hogar, etc.; estos factores, claramente,  no depende del individuo, *Kogan(2003)* descubre que para aquellos jóvenes que han abandonado la escuela, la probabilidad de ingresar al primer empleo significativo es mayor para aquellos cuyos padres tiene educación terciaria en comparación con los hijos de padres menos educados. *Durye, Cox y Ureta (2003)* concluyen que, para aumentar los niveles de escolaridad, será necesario difundir información sobre los retornos económicos de la educación para incentivar a estos jóvenes a educarse, así también como formas alternativas de cuidado para los niños pequeños para que los hermanos mayores no tengan que abandonar la escuela por cuidarlos. Los tipos de contratos que se ofrecen a los jóvenes también son un factor muy influyente a la hora de conseguir trabajo, *Mascerini y Ludwinek (2014)* revelan que los jóvenes empleados con contratos temporales tienen menos posibilidades de permanecer en el empleo. *Topel y Bard (1992)* descubren que la evolución de los salarios desempeña un papel clave en esta transición hacia un empleo estable. La situación económica de los países influye de manera notable en la obtención de un empleo, los países con programas de aprendizaje, *Mascherini y Ludwinek (2014)*, con nuevas instituciones del mercado laboral y medidas para fortalecer el capital humano, social y cultural de los jóvenes, *Meller (2007)*, mejoran la capacidad de los jóvenes de obtener un empleo. En cambio, países con malos cambios en las políticas laborales, producen aumento en el desempleo juvenil, *Ramírez (1996)*. Otros de los factores que no depende del individuo es la edad de los jóvenes, *Ramírez (1996)* descubre que la edad reduce la probabilidad de obtener un primer trabajo, pero no afecta la probabilidad de reinserción laboral. \n",
    "\n",
    "Los jóvenes que terminan la escuela siguen una tendencia similar: dejan la escuela para pasar un corto tiempo en el sector informal, pasan a una posición en el sector formal por períodos más largos hasta que finalmente se vuelven autónomos, *Cunningham (2011)*, esta *transición escuela-trabajo informal-trabajo formal*, es muy común entre los jóvenes de distintos países, debido a que el trabajo en el sector informal es temporal ya que sirve como trampolín para el trabajo formal o para aquellas personas que no encuentran un trabajo formal y no pueden permitirse no trabajar, *Gong, Van Soest y Villagomez (2002)*, estos autores también encontraron evidencia de que la probabilidad de trabajar en el sector informal disminuye con el nivel de ingresos de otros miembros de la familia, mientras que la probabilidad de trabajar aumenta con él. *Bosh (2007)* sugiere que una parte sustancial del sector informal (en particular los trabajadores independientes), corresponden a la entrada voluntaria, aunque el trabajo asalariado informal puede corresponder especialmente para los trabajadores más jóvenes.\n",
    "\n",
    "Después de analizar la bibliografía reunida, se concluye que este trabajo debe realizarse debido a que no se ha encontrado un análisis detallado para Argentina, sobre si el tipo de institución educativa, es decir, si el tipo de institución, si es privada o pública, tienen alguna influencia en la transición de la escuela al trabajo para los jóvenes de Argentina. También es necesario analizar la diferencia de probabilidades de conseguir un empleo dependiendo de la cantidad de años de educación de los jóvenes. También si las mujeres jóvenes tienen mayor dificultad a la hora de conseguir empleo que los hombres jóvenes de la misma edad y con los mismos años de educación.\n"
   ]
  },
  {
   "cell_type": "markdown",
   "metadata": {},
   "source": [
    "### II. Datos\n",
    "\n",
    "Los datos que usaremos en este trabajo provienen de la *Encuesta Permanente de Hogares* (EPH) realizada por el *Instituto Nacional de Estadísticas y Censos* (INDEC) de la República Argentina. Esta encuesta es realizada en las 33 principales ciudades de Argentina lo que implica una representatividad de más del 70% de la población urbana y de alrededor del 62% de la población total.\n",
    "\n",
    "Para este estudio utilizaremos un panel de datos, correspondiente al período *2017-2018*. Donde cada individuo, que este comprendido en la edad de 14 a 45 años, será observado de un año al otro.\n",
    "\n",
    "Para realizar este estudio lo que se hizo fue crear dos tipos de variables, una variable independiente, denominada *Años de Educación* en la que se indica los años de educación del individuo en el período $t$, y luego, una variable dependiente, denominada *Categoría*, donde se indica el tipo de categoría laboral en la que se encuentra el individuo (ver la creación de variables en apéndice estadístico).\n",
    "\n",
    "Otro punto importante que remarcar, es que, como la finalidad del estudio es mostrar las probabilidades que tiene un individuo, dependiendo de sus años de educación formal, de ingresar en el mercado laboral, se han dejado solo en la muestra las personas que buscaron trabajo en los últimos 12 meses del período $t+1$. Es decir, solo se estudia al individuo que en el año 2018 busco trabajo. Esto es necesario para especificar las probabilidades que tiene un individuo que decidió ingresas al mercado laboral de quedar inactivo, desocupado, continuar estudiado, etc. Dependiendo de los años de educación formal que tenga en el período antes de decidir buscar trabajo.\n",
    "\n",
    "Un problema puede ser el potencial sesgo por *desgranamiento* o *attrition*, que es la pérdida de observaciones en el tiempo. Especialmente en este caso, del total de individuos que son observados en un año y sólo algunos de ellos siguen siendo observados al año siguiente, el resto sale de la muestra.\n",
    "\n",
    "La existencia o no de este sesgo no es independientemente del fenómeno estudiado. Así, es posible que la pérdida de observaciones de un panel sesgue algunos estimadores, pero otros no. Pero, si la pérdida de observaciones es completamente aleatoria e independiente, entonces este desgranamiento no debería sesgar ningún tipo de estimador. En la EPH el proceso de muestreo contempla la rotación de hogares, este fenómeno es realizado de manera aleatoria e independientemente por el INDEC. Por ende, no debe encontrarse correlación con ninguna característica del hogar o de las personas, lo que es equivalente a ausencia de sesgo en los estimadores. \n",
    "\n",
    "\n"
   ]
  },
  {
   "cell_type": "markdown",
   "metadata": {},
   "source": [
    "### III. Variables\n",
    "#### III.a Variable independiente: Educación\n",
    "\n",
    "Esta variable divide la muestra en nueve estados exhaustivos y mutuamente excluyentes. Antes de detallar como se determinó la creación de esta variable, vale la pena aclarar algunos puntos importantes. Se decidió no considerar los años de \"preescolar\" o \"jardín maternal\" como años de educación formal, por lo tanto, los años de educación comienzan a computarse desde que el individuo ingresa a la primaria, se tomó esta decisión debió a que se supone que un individuo que tenga o no educación preescolar, no tendrá una influencia significativa al ahora de ingresas al mercado laboral. \n",
    "\n",
    "Se decidió agrupar en un mismo término los individuos que tiene años de educación completos pero que aún no completan el ciclo educacional respectivo, es decir, se va agrupar en un mismo término a los individuos que tiene años completos en, por ejemplo, primaria pero que no han finalizado este ciclo. Siguiendo este razonamiento, se agruparán en un mismo término los individuos que hayan completado los ciclos educacionales.\n",
    "\n",
    "Para una mejor compresión, en la siguiente tabla se especifica como se ha creado esta variable\n",
    "\n",
    "\n",
    "$\\quad\\quad\\quad\\quad\\quad\\quad\\quad\\quad\\quad\\quad\\quad\\quad\\quad\\quad\\quad\\text{Tabla I}$\n",
    "\n",
    "|Nivel|Completó|Años de Educación|\n",
    "|-----|--------|---------|\n",
    "|Preescolar|No|0|\n",
    "|Preescolar|Sí|0|\n",
    "|Primario|No|1 a 5|\n",
    "|Primario|Sí|6|\n",
    "|Secundario|No|7 a 11|\n",
    "|Secundario|Si|12|\n",
    "|Universitario|No|13 a 16|\n",
    "|Universitario|Si|17|\n",
    "|Posgrado|No|18 a 20|\n",
    "|Posgrado|Si|21|\n",
    "\n",
    "Como se muestra en *Tabla I*, se agrupa los individuos dependiendo de los años completos de educación y de los ciclos completos del sistema educativo.\n",
    "\n"
   ]
  },
  {
   "cell_type": "markdown",
   "metadata": {},
   "source": [
    "#### III.b Variable dependiente: Categoría Laboral\n",
    "\n",
    "Esta variable agrupa la población en siete estados exhaustivos y mutuamente excluyentes, donde cada término corresponde a una situación laboral diferente. En esta variable se trata de tener en cuenta todas las situaciones posibles que puede tener un individuo cuando decide insertarse en el mundo laboral. \n",
    "\n",
    "Antes de entrar en el detalle de cada término. Es necesario definir lo que se considera como *Trabajo Informal*. Gasparini y Tornarolli (2007) nos dice que hay al menos dos conceptos diferentes a los que se refiere el término *informalidad laboral*. La definición *productiva*, que es la que describe a los trabajadores informales como aquellos de baja productividad, empleos marginales no calificados, mientras que la definición *legalista* o *protección social* enfatiza la falta de protección laboral y beneficios de seguridad social. Estas definiciones no corresponden a puntos de vistas diferentes sobre la informalidad, sino que se refieren a diferentes fenómenos en el mercado laboral. En este estudio se considerará como *trabajador informal* a aquel no paga o no le descuentan aportes jubilatorios o cobertura médica, y de forma respectiva definimos como *trabajador formal* al que si paga o si le descuentan de su ingreso por ocupación principal.\n",
    "\n",
    "Estas situaciones posibles se puede ver en la siguiente figura\n",
    "\n",
    "\n",
    "$\\quad\\quad\\quad\\quad\\quad\\quad\\quad\\quad\\quad\\quad\\quad\\quad\\quad\\quad\\quad\\quad\\text{Fig. I}$\n",
    "![](categoria.png)\n",
    "\n"
   ]
  },
  {
   "cell_type": "markdown",
   "metadata": {},
   "source": [
    "Como se puede ver en la *fig.I* el individuo que decide ingresar al mercado laboral, puede caer en una de estas siete situaciones:\n",
    "\n",
    "* Inactivo, es decir, sin la facultad de poder trabajar y estudiar\n",
    "\n",
    "* Desempleado, es decir, que tiene la facultad de poder trabajar y estudiar, pero no realiza ninguna actividad\n",
    "\n",
    "* Estudiante, es decir, decidió buscar trabajo, pero no lo consiguió, continúa desempleado, pero continua en el sistema educativo.\n",
    "\n",
    "* Estudiante con trabajo formal, es decir, aquél que decidió buscar trabajo, consiguió un empleo formal, pero no abandona el sistema educativo.\n",
    "\n",
    "* Estudiante con trabajo informal, es decir, aquel que consiguió trabajo en el sector informal y continua en el sistema educativo\n",
    "\n",
    "* Trabajador Formal, es aquel estudiante que decide ingresar al mercado laboral, consigue un empleo en el sector formal y abandona el sistema educativo \n",
    "\n",
    "* Trabajador Informal, es aquel individuo ingresa en el mercado laboral a través del sector informal y abandona el sistema educativo consecuentemente.\n",
    "\n",
    "\n"
   ]
  },
  {
   "cell_type": "markdown",
   "metadata": {},
   "source": [
    "### IV. Matrices de Transición.\n",
    "\n",
    "Este análisis se realiza usando *matrices de transición*, las cuales mostraran las probabilidades que tiene una persona de ingresar o no al mercado laboral dependiendo de los años de educación formal que tenga anteriormente, en este caso analizaremos matrices correspondientes al período *2017-2018*, en la que está incluida la población joven y adulto joven comprendida en las edades de 14 a 45 años para los 29 aglomerados urbanos de Argentina (ver creación de matrices en apéndice estadístico).\n",
    "\n",
    "Cada columna de la matriz corresponde a los años de educación formal alcanzados por el individuo en el período $t$, y cada fila corresponde a la categoría laboral que ingresa el individuo cuando decidió buscar trabajo en el período $t+1$, dando como resultado una matriz $7x9$\n",
    "\n",
    "En cada matriz existe un elemento $a_{ij}$ característico contenido en la fila $i$ y columna $j$, este elemento mide la proporción de individuos que se encuentran en el estado $i$ en el período $t+1$, condicional de haber estado en $j$ en el período $t$. Por deducción, cada columna debe las matrices debe sumar $100%$\n",
    "\n",
    "Para interpretar las matrices en términos de probabilidades, el elemento $a_{ij}$ es la probabilidad de que el individuo $a$ se encuentre en el estado $i$ en el período $t+1$, condicional de haberse encontrado en el estado $j$ en el período $t$.\n",
    "\n",
    "\n",
    "$$\\large a_{ij} = P\\left(\\frac{\\text{estado $i$ en $t$}}{\\text{estado $j$ en $t+1$}}\\right)$$\n"
   ]
  },
  {
   "cell_type": "markdown",
   "metadata": {},
   "source": [
    "### V. Resultados\n",
    "\n",
    "Para una mejor compresión y análisis vamos a agrupar las matrices en tres grupos: en el primer grupo tendremos una sola matriz de la población total comprendida entre 14 a 45 años, donde realizaremos consideraciones generales. En un segundo grupo, tendremos dos matrices en la que cada una corresponderá a las personas que se han educado en instituciones públicas o privadas. Y el tercer grupo, tendremos dos matrices correspondientes a los diferentes sexos de los individuos, es decir, una matriz para mujeres y otra matriz para hombres..\n",
    "\n",
    "$\\underline{\\text{Primer grupo}}$\n"
   ]
  },
  {
   "cell_type": "markdown",
   "metadata": {},
   "source": [
    "![](matriz1718.png)"
   ]
  },
  {
   "cell_type": "markdown",
   "metadata": {},
   "source": [
    "De esta primera matriz podemos sacar algunas consideraciones generales que se verán en la mayoría de las matrices de estudio:\n",
    "\n",
    "Los individuos que no terminan la primaria, es decir, que tiene de 1 a 5 años de educación, e intentan ingresar al mercado laboral tiene una alta probabilidad de ingresar en un trabajo informal y abandonar el sistema educativo\n",
    "\n",
    "A medida que los individuos van incorporando años de educación se puede ver como las probabilidades de conseguir un trabajo informal van disminuyendo, y de manera contraria las probabilidades de conseguir un trabajo formal aumentan con los años de educación\n",
    "\n",
    "Un cuarto de los jóvenes que están en una universidad o estudiando un terciario y deciden ingresar al mercado, consiguen un trabajo, pero también siguen en el sistema educativo, en cambio, una vez finalizado el ciclo universitario o terciario, es decir, una vez obtenida la certificación, un porcentaje muy menor de jóvenes continúan con sus estudios doctorales o de posgrado debido a una gran probabilidad de conseguir un trabajo formal.\n",
    "\n",
    "También podemos ver que los jóvenes con años elevados de educación, ya sea que estén estudiando un doctorado o posgrado, o ya haber finalizado sus estudios, una vez que deciden ingresar al mercado laboral, abandonan el sistema educativo y tiene probabilidades altas de ingresar en el sector formal, pero, también tiene probabilidades de quedar desempleados. Esto se puede deber a que los jóvenes con 17 a 21 años de educación que deciden ingresar al mercado laboral, puede tener dificultades a la hora de ingresar en el mercado laboral debido a que ya son jóvenes casi adultos y tiene altos niveles educativos, pero pocos o casi nulos años de experiencia laboral.\n"
   ]
  },
  {
   "cell_type": "markdown",
   "metadata": {},
   "source": [
    "$\\underline{\\text{Segundo grupo}}$\n",
    "\n",
    "En este segundo grupo de matrices, se dividió a la muestra en dos grandes grupos, los que asistieron a establecimientos educativos públicos y los que asistieron a establecimientos educativos privados. Esta división se efectuó con el objetivo de examinar si el tipo de establecimiento educativo donde el individuo se educó, influye de manera significativa a la hora de ingresar al mercado laboral.\n",
    "\n",
    "![](matriz1718pu.png)\n",
    "![](matriz1718pr.png)"
   ]
  },
  {
   "cell_type": "markdown",
   "metadata": {},
   "source": [
    "Como podemos apreciar en la *tabla III a* y *Tabla III b* es que respetan las consideraciones generales, de los movimientos de transición expuestos en el primero grupo de matrices."
   ]
  },
  {
   "cell_type": "markdown",
   "metadata": {},
   "source": [
    "![](figIIa.png)\n"
   ]
  },
  {
   "cell_type": "markdown",
   "metadata": {},
   "source": [
    "La *figIIa* muestra la probabilidad de quedar desocupado comparado el tipo de institución a la que asistió el individuo, podemos ver que el tipo de institución no influye de manera significativa en el desempleo de los individuos. \n",
    "\n",
    "Podemos ver que los individuos con mayoras probabilidades de caer en el desempleo a la hora de ingresar al mercado laboral, son los individuos con  años de educación más elevados, se puede pensar que esto ocurre debido a que estos individuos poseen pocos años de experiencia laboral lo que conlleva una difícil transición al mercado laboral o también se puede pensar que el mercado laboral no tiene una demanda fuerte en mano de obra muy calificada, es decir, se puede pensar que las empresas demandan más mano de obra con certificación terciaria y/o universitaria, que mano de obra con certificación en posgrado y/o doctorado.\n",
    "\n",
    "\n"
   ]
  },
  {
   "cell_type": "markdown",
   "metadata": {},
   "source": [
    "![](figIIb.png)"
   ]
  },
  {
   "cell_type": "markdown",
   "metadata": {},
   "source": [
    "En la *fig II b* se muestran las probabilidades de ingresar al sector formal o al sector informal, dependiendo del tipo de institución educativa a la que asistió el individuo. \n",
    "\n",
    "Como primera intuición, podemos ver que a medida que aumentan los años de educación, independiente del tipo de institución, la probabilidad de ingresar al sector formal aumenta, en cambio, la probabilidad de ingresar al sector informal disminuye.\n",
    "\n",
    "Otro punto importante, es que independientemente de los años de educación, tienen más probabilidad de ingresar en el sector formal los individuos que se educan en instituciones privadas que los individuos que se educan en instituciones públicas, de igual manera, esta diferencia no es tan significativa, pero nos da un indicio de que las instituciones privadas hacen una mejor transición al sector informal que las instituciones públicas.\n"
   ]
  },
  {
   "cell_type": "markdown",
   "metadata": {},
   "source": [
    "$\\underline{\\text{Tercer grupo}}$\n",
    "\n",
    "En este grupo de matrices, se dividió la muestra teniendo en cuenta el sexo de los individuos, para analizar si existen diferencias significativas entre hombres y mujeres, no solo a la hora de ingresar al mercado laboral, sino también analizar si existe una pequeña tendencia, según el sexo, de ingresar al sector formal o sector informal\n",
    "\n",
    "![](matriz1718h.png)\n",
    "![](matriz1718m.png)\n",
    "\n",
    "Podemos ver que las probabilidades siguen las tendencias general descriptas en el primer grupo de matrices, pero se puede percibir una cierta diferencia en los individuos que a la hora de ingresar al mercado laboral caen en el desempleo.\n"
   ]
  },
  {
   "cell_type": "markdown",
   "metadata": {},
   "source": [
    "Un punto importante que podemos descartar antes de ingresar en los detalles de este grupo de matrices, es que se puede percibir una diferencia entre los hombres y mujeres, que están en el ciclo universitario o terciario, es decir, entre 13 a 16 años de educación, y que deciden ingresar al mercado laboral, que las mujeres tiene una mayor probabilidad de conseguir un trabajo  y continuar sus estudios universitarios, que los hombres que son más propensos a abandonar sus estudios una vez que consiguen insertarse en el mercado laboral."
   ]
  },
  {
   "cell_type": "markdown",
   "metadata": {},
   "source": [
    "![](figIIIa.png)"
   ]
  },
  {
   "cell_type": "markdown",
   "metadata": {},
   "source": [
    "En la *fig III a* se muestra la probabilidad de quedar desempleado según el sexo de los individuos. De manera general podemos ver que las mujeres tienen mayores probabilidades de quedar desempleadas a la hora de ingresar al mercado laboral. Si realizamos una mirada más exhaustiva, podemos apreciar, que las mujeres con mayores años de educación son las que tiene mayores probabilidades de caer en el desempleo que los hombres, esto se puede deber a que las mujeres que tiene años elevados de educación pero poca o casi nula experiencia laboral se les dificulta mucho más ingresar al mercado laboral que los hombres en las mismas circunstancias."
   ]
  },
  {
   "cell_type": "markdown",
   "metadata": {},
   "source": [
    "\n",
    "![](figIVa.png)\n",
    "![](figIVb.png)\n"
   ]
  },
  {
   "cell_type": "markdown",
   "metadata": {},
   "source": [
    "En las *fig IV a* y *fig IV b* se muestran una comparación de las probabilidades de los individuos dependiendo del sexo, de ingresar al sector formal o informal según los años de educación. De estas figuras se puede sacar varias conclusiones interesantes.\n",
    "\n",
    "Una de ellas es que los jóvenes hombres independientemente de los años de educación tienden a tener más probabilidad de ingresar en el sector informal que las mujeres, esto se puede deber, a que los hombres jóvenes debido a factores culturales, sociales y/o la situación del hogar donde viven, están impulsados a dejar sus estudios para ingresar al mercado laboral, y debido a que no llegan alcanzar niveles altos de educación o certificación terciaria o universitaria, y tienen poca o nula experiencia laboral, tienen menos probabilidad de ingresar en el sector formal. Cunningham (2011) demuestras que los jóvenes que abandonan la escuela para ingresar al mercado laboral siguen una tendencia similar: dejan la escuela para pasar un corto período en el sector informal, acumulan años de experiencia para pasar a una posición en el sector formal por períodos más largos hasta que finalmente se vuelven autónomos.\n",
    "\n",
    "Otra conclusión interesante, es que las mujeres jóvenes, al no tener esta presión de ingresar al mercado laboral, cuando completan sus estudios universitarios e incluso hasta las mujeres que completan sus estudios doctorales o de posgrado y deciden ingresar al mercado laboral tiene la mitad de las probabilidades de ingresar en el sector formal que los hombres con los mismos años de educación. Se puede pensar que esto se puede deber a que las mujeres con altos años de educación poseen casi nula experiencia laboral, ya que pasaron entre 18 a 21 años educándose.\n",
    "\n",
    "\n",
    "\n",
    "\n"
   ]
  },
  {
   "cell_type": "markdown",
   "metadata": {},
   "source": [
    "### VI. Conclusión\n",
    "\n",
    "El presente trabajo se realizó con en el objetivo de demostrar la importancia de la educación a la hora de ingresar al mercado laboral, y de su influencia para ingresar al sector formal. Este sector es preferencial para los individuos con respecto al sector informal, la OIT (1991) define a las empresas informales como aquellas que no cumplen con las normas en términos de contratos, impuestos y regulaciones laborales, y sus trabajadores no tiene derecho a una protección laboral o beneficios sociales vinculados al empleo. Esto conlleva a que los individuos anhelen ingresar al sector formal.\n",
    "\n",
    "Pudimos demostrar que las probabilidades de ingresar al sector formal aumentan a medida que los individuos aumentan sus años de educación, independientemente de las características propias de los individuos y de las instituciones, de igual forma, pero de manera contraria, las probabilidades de ingresar al sector informal disminuyen. Esto no quiere decir que los individuos con altos niveles educativos tienen una fácil transición al sector formal, descubrimos que los individuos, en especial las mujeres, que llegan a una situación de tener entre 27 a 45 años, con estudios doctorales y/o de posgrado, pero con poca o casi nula experiencia laboral, tiene probabilidades altas de quedar desempleados cuando deciden ingresar al sector laboral, se puede suponer que esto ocurre debido a que las empresas deciden contratar a jóvenes de menor edad y menos calificados, pero con un poco más de experiencia laboral, y consecuentemente con un salario laboral menor, que contratar a jóvenes adultos con niveles altos de educación y consecuentemente salarios laborales mayores. \n",
    "\n",
    "Se recomiendo como conclusión final de este estudio que para mejorar la transición de los jóvenes de la escuela al trabajo es necesario establecer medidas para fortalecer el capital humano, social y cultural de los jóvenes, y de las familias, al igual que programas de asistencia social para que los jóvenes no sea van obligados a abandonar la escuela o sus estudios universitarios debido a problemas en la situación de su hogar. También se recomienda, informar a los jóvenes que con años de educación elevados tiene mayor probabilidad de conseguir trabajos estables, con asistencia social y aportes jubilatorios, para que no se conformen con tener estudios secundarios solamente sino incentivarlos a realizar estudios universitarios o terciarios.\n"
   ]
  },
  {
   "cell_type": "markdown",
   "metadata": {},
   "source": [
    "### Referencia\n",
    "\n",
    "$\\texttt{Blanchflower David G., Oswald Andrew J. (1998)}\\textit{\"What Makes an Entrepreneur?\"}\\texttt{Journal of Labor Economics 16(1). pp.26-60}$\n",
    "\n",
    "\n",
    "$\\texttt{Bosh Mariano, William F. Maloney (2010)}\\textit{\"Comparative analysis of labor market dynamics using Markov processes: An application to informality\"}\\texttt{Universidad de Alicante, World Bank, United States}$\n",
    "\n",
    "\n",
    "$\\texttt{Cunningham Wendy, Bustos Javier (2011)}\\textit{\"Younth Employment Transitions in Latin America\"}\\texttt{The World Bank, Human Development Network}$\n",
    "\n",
    "$\\texttt{Duryea Suzanne, Cox Alejandra, Ureta Manuelita (2003)}\\textit{\"Critical Decisions at a Critical Age: Adolescents and Young Adults in Latin American\"}\\quad\\texttt{Inter-American Development Bank, Washington, DC}$\n",
    "\n",
    "\n",
    "$\\texttt{Egel Daniel, Salehi-Isfahani Djavad (2010)}\\textit{\"Youth Transitions to Employment and Marriage in Iran: Evidence from the School to Work Transition Survey\"}\\texttt{Wolfensohn Center for Development - Dubai School of Government}$\n",
    "\n",
    "\n",
    "$\\texttt{Gasparini Leonardo, Tornarolli Leopoldo (2007)}\\textit{\"Labor Informallity in Latin America and the Caribbean: Patterns and Trends from Household Survey Microdata\"}\\texttt{CEDLAS, Universidad Nacional de la Plata}$\n",
    "\n",
    "\n",
    "$\\texttt{Gong Xiaodong, Soest Arthur V. (2000)}\\textit{\"Mobilit in the Urban Labor Market: A Panel Data Analysis for Mexico\"}\\texttt{IZA, Germany}$\n",
    "\n",
    "\n",
    "$\\texttt{Kogan Irene (2003)}\\textit{\"Transition from School to Work in Transition Economies\"}\\texttt{Transitions in Youth Conference \"Competencies and careers\"}$\n",
    "\n",
    "\n",
    "$\\texttt{Maloney William F. (2004)}\\textit{\"Informality Revisited\"}\\texttt{The World Bank, Washington DC}$\n",
    "\n",
    "\n",
    "$\\texttt{Mascherini Massimiliano, Ludwinek Anna (2014)}\\textit{\"Mapping youth transitions in Europe\"}\\texttt{European Foundation for the Improvement of Living and Working Conditions}$\n",
    "\n",
    "\n",
    "$\\texttt{Meller Jurgen (2007)}\\textit{\"Youth Employment: Characteristics, Tensions and Challenges\"}\\texttt{Cepal Review 02}$\n",
    "\n",
    "\n",
    "$\\texttt{Perry Guillermo E. (2007)}\\textit{\"Informalidad: Escape y Exclusión\"}\\texttt{Estudios del Banco Mundial sobre América Latina y el Caribe}$\n",
    "\n",
    "\n",
    "$\\texttt{Quintini Glenda, Martin Sébastien (2006)}\\textit{\"Starting Well or Losing Their Way? The Position of Youth in the Labour Market in OECD Countries\"}\\texttt{All Social, Employment and Migration Working Paper}$\n",
    "\n",
    "\n",
    "$\\texttt{Ramírez Alfonso A. (1996)}\\textit{\"Employment Transitions of Young Workers in Spain\"}\\texttt{Working Paper 96-61, Universidad Carlos III de Madrid}$\n",
    "\n",
    "\n",
    "$\\texttt{Schkolnik Mariana (1996)}textit{\"Caracterización de la Inserción Laboral de los Jóvenes\"}\\texttt{División de Desarrollo Social, Santiago de Chile}$\n",
    "\n",
    "\n",
    "$\\texttt{Topel Robert H., Ward Michael P. (1992)}\\textit{\"Job Mobility and the Careers of Young Men\"}\\texttt{Journal of Economics of MIT Press}$\n",
    "\n",
    "\n",
    "$\\texttt{Viollaz Mariana (205)}\\textit{\"Empelo Informal y Apertura Comercial: Evidencia de 20 años de Reformas en Argentina\"}\\texttt{Universidad Nacional de la Plata}$\n",
    "\n"
   ]
  },
  {
   "cell_type": "code",
   "execution_count": null,
   "metadata": {},
   "outputs": [],
   "source": []
  }
 ],
 "metadata": {
  "kernelspec": {
   "display_name": "Python 3",
   "language": "python",
   "name": "python3"
  },
  "language_info": {
   "codemirror_mode": {
    "name": "ipython",
    "version": 3
   },
   "file_extension": ".py",
   "mimetype": "text/x-python",
   "name": "python",
   "nbconvert_exporter": "python",
   "pygments_lexer": "ipython3",
   "version": "3.7.4"
  }
 },
 "nbformat": 4,
 "nbformat_minor": 2
}
